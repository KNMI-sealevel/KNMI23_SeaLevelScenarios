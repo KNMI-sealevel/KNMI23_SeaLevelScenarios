{
 "cells": [
  {
   "cell_type": "markdown",
   "id": "0cab2f6f-ed35-47cd-b96c-5be6679ab4d6",
   "metadata": {},
   "source": [
    "# Low Probability High Impact scenarios"
   ]
  },
  {
   "cell_type": "code",
   "execution_count": 2,
   "id": "5f3ecda7-bcb8-4a6d-9797-c7be8a619970",
   "metadata": {},
   "outputs": [],
   "source": [
    "import importlib\n",
    "\n",
    "import numpy as np\n",
    "import matplotlib.pyplot as plt\n",
    "import pandas as pd\n",
    "import xarray as xr\n",
    "\n",
    "import knmi23_module as knmi23\n",
    "\n",
    "import matplotlib_inline.backend_inline\n",
    "matplotlib_inline.backend_inline.set_matplotlib_formats('retina')"
   ]
  },
  {
   "cell_type": "code",
   "execution_count": 3,
   "id": "50477270-0831-4175-99e2-e6160bc67514",
   "metadata": {},
   "outputs": [
    {
     "data": {
      "text/plain": [
       "<module 'knmi23_module' from '/Users/dewilebars/Projects/KNMIClimateScenarios2021-2023/2023_KNMI2023/KNMI23_SeaLevelScenarios/knmi23_module.py'>"
      ]
     },
     "execution_count": 3,
     "metadata": {},
     "output_type": "execute_result"
    }
   ],
   "source": [
    "importlib.reload(knmi23)"
   ]
  },
  {
   "cell_type": "code",
   "execution_count": 4,
   "id": "75bc0c70-8a25-4965-a20f-f0d84809a058",
   "metadata": {},
   "outputs": [],
   "source": [
    "Projects_dir = '/Users/dewilebars/Projects/'\n",
    "ProbSLR_dir = f'{Projects_dir}Project_ProbSLR/SLProj/'"
   ]
  },
  {
   "cell_type": "markdown",
   "id": "debdd6ff-a2a4-43c1-9cb3-20c9c9cc3140",
   "metadata": {},
   "source": [
    "## Read projections for the ocean dynamics"
   ]
  },
  {
   "cell_type": "code",
   "execution_count": 14,
   "id": "402944d9-08ff-4d74-adb9-ff1e20b92f1f",
   "metadata": {},
   "outputs": [],
   "source": [
    "proj_data_dir = f'{ProbSLR_dir}/outputs/KNMI23/'\n",
    "\n",
    "REG = 'Netherlands'\n",
    "\n",
    "if REG == 'Netherlands':\n",
    "    KNMI23_ssp126 = xr.open_dataset(f'{proj_data_dir}SeaLevelPerc_KNMI23_ssp126_v19.nc')\n",
    "    KNMI23_ssp585 = xr.open_dataset(f'{proj_data_dir}SeaLevelPerc_KNMI23_ssp585_v19.nc')\n",
    "elif REG == 'Bonaire':\n",
    "    KNMI23_ssp126 = xr.open_dataset(f'{proj_data_dir}SeaLevelPerc_KNMI23_ssp126_Bonaire_v01.nc')\n",
    "    KNMI23_ssp585 = xr.open_dataset(f'{proj_data_dir}SeaLevelPerc_KNMI23_ssp585_Bonaire_v01.nc')\n",
    "elif REG == 'Saba':\n",
    "    KNMI23_ssp126 = xr.open_dataset(f'{proj_data_dir}SeaLevelPerc_KNMI23_ssp126_Saba_v01.nc')\n",
    "    KNMI23_ssp585 = xr.open_dataset(f'{proj_data_dir}SeaLevelPerc_KNMI23_ssp585_Saba_v01.nc')\n",
    "elif REG == 'Suriname':\n",
    "    KNMI23_ssp126 = xr.open_dataset(f'{proj_data_dir}SeaLevelPerc_KNMI23_ssp126_Suriname_v01.nc')\n",
    "    KNMI23_ssp585 = xr.open_dataset(f'{proj_data_dir}SeaLevelPerc_KNMI23_ssp585_Suriname_v01.nc')\n",
    "    \n",
    "lon_reg, lat_reg = KNMI23_ssp126.Fingerprint_location.data\n",
    "\n",
    "GIA = KNMI23_ssp126.perc_ts.sel(proc='GIA', percentiles='50')\n",
    "vlm_rate = GIA.isel(time=1)-GIA.isel(time=0)\n",
    "    \n",
    "KNMI23_ssp126 = knmi23.new_ref_period(KNMI23_ssp126.perc_ts)\n",
    "KNMI23_ssp585 = knmi23.new_ref_period(KNMI23_ssp585.perc_ts)"
   ]
  },
  {
   "cell_type": "code",
   "execution_count": 15,
   "id": "359b51e3-0a05-4713-a84a-a204cd77060d",
   "metadata": {},
   "outputs": [
    {
     "data": {
      "text/plain": [
       "(5, 53)"
      ]
     },
     "execution_count": 15,
     "metadata": {},
     "output_type": "execute_result"
    }
   ],
   "source": [
    "lon_reg, lat_reg"
   ]
  },
  {
   "cell_type": "markdown",
   "id": "471dcacd-6d30-48f7-89bf-228ccd7506ab",
   "metadata": {},
   "source": [
    "## Base LPHI scenario on [van de Wal et al. 2022](https://agupubs.onlinelibrary.wiley.com/doi/full/10.1029/2022EF002751)"
   ]
  },
  {
   "cell_type": "code",
   "execution_count": 16,
   "id": "cf13615b-f66d-47cb-9267-8b8ad868a38d",
   "metadata": {},
   "outputs": [],
   "source": [
    "col_names = ['vdw_low_2100', 'vdw_high_2100', 'vdw_low_2300', 'vdw_high_2300']\n",
    "indexes = ['Thermal exp.', 'Greenland', 'Antarctica', 'Glaciers', 'Land Storage']\n",
    "\n",
    "glo_vdw = [[0.18, 0.36, 0.35, 1.51],\n",
    "           [0.10, 0.29, 0.39, 2.5],\n",
    "           [0.39, 0.59, 1.35, 6],\n",
    "           [0.15, 0.27, 0.28, 0.32],\n",
    "           [0.04, 0.04, 0.10, 0.10]]\n",
    "\n",
    "glo_lphi_df = pd.DataFrame(glo_vdw, columns=col_names, index=indexes)\n",
    "\n",
    "glo_lphi_df = glo_lphi_df[['vdw_low_2100', 'vdw_low_2300', 'vdw_high_2100', 'vdw_high_2300']]\n",
    "\n",
    "glo_lphi_df.loc['Total'] = glo_lphi_df.sum(axis=0)"
   ]
  },
  {
   "cell_type": "code",
   "execution_count": 17,
   "id": "341992ef-9717-42db-813e-f9f8251e9c02",
   "metadata": {},
   "outputs": [
    {
     "data": {
      "text/html": [
       "<div>\n",
       "<style scoped>\n",
       "    .dataframe tbody tr th:only-of-type {\n",
       "        vertical-align: middle;\n",
       "    }\n",
       "\n",
       "    .dataframe tbody tr th {\n",
       "        vertical-align: top;\n",
       "    }\n",
       "\n",
       "    .dataframe thead th {\n",
       "        text-align: right;\n",
       "    }\n",
       "</style>\n",
       "<table border=\"1\" class=\"dataframe\">\n",
       "  <thead>\n",
       "    <tr style=\"text-align: right;\">\n",
       "      <th></th>\n",
       "      <th>vdw_low_2100</th>\n",
       "      <th>vdw_low_2300</th>\n",
       "      <th>vdw_high_2100</th>\n",
       "      <th>vdw_high_2300</th>\n",
       "    </tr>\n",
       "  </thead>\n",
       "  <tbody>\n",
       "    <tr>\n",
       "      <th>Thermal exp.</th>\n",
       "      <td>0.18</td>\n",
       "      <td>0.35</td>\n",
       "      <td>0.36</td>\n",
       "      <td>1.51</td>\n",
       "    </tr>\n",
       "    <tr>\n",
       "      <th>Greenland</th>\n",
       "      <td>0.10</td>\n",
       "      <td>0.39</td>\n",
       "      <td>0.29</td>\n",
       "      <td>2.50</td>\n",
       "    </tr>\n",
       "    <tr>\n",
       "      <th>Antarctica</th>\n",
       "      <td>0.39</td>\n",
       "      <td>1.35</td>\n",
       "      <td>0.59</td>\n",
       "      <td>6.00</td>\n",
       "    </tr>\n",
       "    <tr>\n",
       "      <th>Glaciers</th>\n",
       "      <td>0.15</td>\n",
       "      <td>0.28</td>\n",
       "      <td>0.27</td>\n",
       "      <td>0.32</td>\n",
       "    </tr>\n",
       "    <tr>\n",
       "      <th>Land Storage</th>\n",
       "      <td>0.04</td>\n",
       "      <td>0.10</td>\n",
       "      <td>0.04</td>\n",
       "      <td>0.10</td>\n",
       "    </tr>\n",
       "    <tr>\n",
       "      <th>Total</th>\n",
       "      <td>0.86</td>\n",
       "      <td>2.47</td>\n",
       "      <td>1.55</td>\n",
       "      <td>10.43</td>\n",
       "    </tr>\n",
       "  </tbody>\n",
       "</table>\n",
       "</div>"
      ],
      "text/plain": [
       "              vdw_low_2100  vdw_low_2300  vdw_high_2100  vdw_high_2300\n",
       "Thermal exp.          0.18          0.35           0.36           1.51\n",
       "Greenland             0.10          0.39           0.29           2.50\n",
       "Antarctica            0.39          1.35           0.59           6.00\n",
       "Glaciers              0.15          0.28           0.27           0.32\n",
       "Land Storage          0.04          0.10           0.04           0.10\n",
       "Total                 0.86          2.47           1.55          10.43"
      ]
     },
     "execution_count": 17,
     "metadata": {},
     "output_type": "execute_result"
    }
   ],
   "source": [
    "glo_lphi_df"
   ]
  },
  {
   "cell_type": "markdown",
   "id": "20b25a32-08c7-48f3-86a7-9ba6c6ca9682",
   "metadata": {},
   "source": [
    "## Additional scenarios based on MICI and SEJ"
   ]
  },
  {
   "cell_type": "markdown",
   "id": "473d148a-3c8e-4602-80dc-0ad24114f61c",
   "metadata": {},
   "source": [
    "For the MICI scenario the Antarctic contribution to sea level rise comes from [DeConto et al. 2021](https://www.nature.com/articles/s41586-021-03427-0) Table 1. Low scenario is the upper end (83rd percentile) of the RCP2.6 scenario and the high scenario is the upper end of the RCP8.5 scenario. Other processes are the same as van de Wal et al. 2022."
   ]
  },
  {
   "cell_type": "code",
   "execution_count": 18,
   "id": "f3d8669a-ccb9-4038-b3cd-ce9440bd4855",
   "metadata": {},
   "outputs": [],
   "source": [
    "glo_lphi_df['mici_low_2100'] = glo_lphi_df['vdw_low_2100']\n",
    "glo_lphi_df['mici_low_2300'] = glo_lphi_df['vdw_low_2300']\n",
    "glo_lphi_df['mici_high_2100'] = glo_lphi_df['vdw_high_2100']\n",
    "glo_lphi_df['mici_high_2300'] = glo_lphi_df['vdw_high_2300']\n",
    "\n",
    "glo_lphi_df.loc['Antarctica', 'mici_low_2100'] = 0.12\n",
    "glo_lphi_df.loc['Antarctica', 'mici_low_2300'] = 1.36\n",
    "\n",
    "glo_lphi_df.loc['Antarctica', 'mici_high_2100'] = 0.53\n",
    "glo_lphi_df.loc['Antarctica', 'mici_high_2300'] = 13.55\n",
    "\n",
    "# Recompute the total\n",
    "glo_lphi_df.loc['Total'] = glo_lphi_df.iloc[0:4].sum(axis=0)"
   ]
  },
  {
   "cell_type": "markdown",
   "id": "8a9ed498-548b-49f2-8f44-2fa0c6985e88",
   "metadata": {},
   "source": [
    "For the SEJ Greenland and Antarctica are taken from the 95th percentile of Table 1 of [Bamber et al. 2019](http://www.pnas.org/lookup/doi/10.1073/pnas.1817205116). \n",
    "\n",
    "Because we use van de Wal et al. 2022 as baseline, only values for 2100 and 2300 are used even though Bamber et al. 2019 also reports 2050 and 2200. "
   ]
  },
  {
   "cell_type": "code",
   "execution_count": 19,
   "id": "266fae78-8910-4030-81aa-9f13f5390236",
   "metadata": {},
   "outputs": [],
   "source": [
    "glo_lphi_df['sej_low_2100'] = glo_lphi_df['vdw_low_2100']\n",
    "glo_lphi_df['sej_low_2300'] = glo_lphi_df['vdw_low_2300']\n",
    "glo_lphi_df['sej_high_2100'] = glo_lphi_df['vdw_high_2100']\n",
    "glo_lphi_df['sej_high_2300'] = glo_lphi_df['vdw_high_2300']\n",
    "\n",
    "# Numbers for Antarctica: WAIS, EAIS \n",
    "glo_lphi_df.loc['Antarctica', 'sej_low_2100'] = 0.44 + 0.12\n",
    "glo_lphi_df.loc['Greenland', 'sej_low_2100'] = 0.57\n",
    "\n",
    "glo_lphi_df.loc['Antarctica', 'sej_low_2300'] = 2.48 + 0.96\n",
    "glo_lphi_df.loc['Greenland', 'sej_low_2300'] = 2.37\n",
    "\n",
    "glo_lphi_df.loc['Antarctica', 'sej_high_2100'] = 0.93 + 0.46\n",
    "glo_lphi_df.loc['Greenland', 'sej_high_2100'] = 0.99\n",
    "\n",
    "glo_lphi_df.loc['Antarctica', 'sej_high_2300'] = 3.84 + 4.98\n",
    "glo_lphi_df.loc['Greenland', 'sej_high_2300'] = 3.49\n",
    "\n",
    "# Recompute the total\n",
    "glo_lphi_df.loc['Total'] = glo_lphi_df.iloc[0:4].sum(axis=0)"
   ]
  },
  {
   "cell_type": "code",
   "execution_count": 20,
   "id": "2c334f5b-bd41-40ec-b620-5275a0f6ff29",
   "metadata": {},
   "outputs": [
    {
     "data": {
      "text/html": [
       "<div>\n",
       "<style scoped>\n",
       "    .dataframe tbody tr th:only-of-type {\n",
       "        vertical-align: middle;\n",
       "    }\n",
       "\n",
       "    .dataframe tbody tr th {\n",
       "        vertical-align: top;\n",
       "    }\n",
       "\n",
       "    .dataframe thead th {\n",
       "        text-align: right;\n",
       "    }\n",
       "</style>\n",
       "<table border=\"1\" class=\"dataframe\">\n",
       "  <thead>\n",
       "    <tr style=\"text-align: right;\">\n",
       "      <th></th>\n",
       "      <th>vdw_low_2100</th>\n",
       "      <th>vdw_low_2300</th>\n",
       "      <th>vdw_high_2100</th>\n",
       "      <th>vdw_high_2300</th>\n",
       "      <th>mici_low_2100</th>\n",
       "      <th>mici_low_2300</th>\n",
       "      <th>mici_high_2100</th>\n",
       "      <th>mici_high_2300</th>\n",
       "      <th>sej_low_2100</th>\n",
       "      <th>sej_low_2300</th>\n",
       "      <th>sej_high_2100</th>\n",
       "      <th>sej_high_2300</th>\n",
       "    </tr>\n",
       "  </thead>\n",
       "  <tbody>\n",
       "    <tr>\n",
       "      <th>Thermal exp.</th>\n",
       "      <td>0.18</td>\n",
       "      <td>0.35</td>\n",
       "      <td>0.36</td>\n",
       "      <td>1.51</td>\n",
       "      <td>0.18</td>\n",
       "      <td>0.35</td>\n",
       "      <td>0.36</td>\n",
       "      <td>1.51</td>\n",
       "      <td>0.18</td>\n",
       "      <td>0.35</td>\n",
       "      <td>0.36</td>\n",
       "      <td>1.51</td>\n",
       "    </tr>\n",
       "    <tr>\n",
       "      <th>Greenland</th>\n",
       "      <td>0.10</td>\n",
       "      <td>0.39</td>\n",
       "      <td>0.29</td>\n",
       "      <td>2.50</td>\n",
       "      <td>0.10</td>\n",
       "      <td>0.39</td>\n",
       "      <td>0.29</td>\n",
       "      <td>2.50</td>\n",
       "      <td>0.57</td>\n",
       "      <td>2.37</td>\n",
       "      <td>0.99</td>\n",
       "      <td>3.49</td>\n",
       "    </tr>\n",
       "    <tr>\n",
       "      <th>Antarctica</th>\n",
       "      <td>0.39</td>\n",
       "      <td>1.35</td>\n",
       "      <td>0.59</td>\n",
       "      <td>6.00</td>\n",
       "      <td>0.12</td>\n",
       "      <td>1.36</td>\n",
       "      <td>0.53</td>\n",
       "      <td>13.55</td>\n",
       "      <td>0.56</td>\n",
       "      <td>3.44</td>\n",
       "      <td>1.39</td>\n",
       "      <td>8.82</td>\n",
       "    </tr>\n",
       "    <tr>\n",
       "      <th>Glaciers</th>\n",
       "      <td>0.15</td>\n",
       "      <td>0.28</td>\n",
       "      <td>0.27</td>\n",
       "      <td>0.32</td>\n",
       "      <td>0.15</td>\n",
       "      <td>0.28</td>\n",
       "      <td>0.27</td>\n",
       "      <td>0.32</td>\n",
       "      <td>0.15</td>\n",
       "      <td>0.28</td>\n",
       "      <td>0.27</td>\n",
       "      <td>0.32</td>\n",
       "    </tr>\n",
       "    <tr>\n",
       "      <th>Land Storage</th>\n",
       "      <td>0.04</td>\n",
       "      <td>0.10</td>\n",
       "      <td>0.04</td>\n",
       "      <td>0.10</td>\n",
       "      <td>0.04</td>\n",
       "      <td>0.10</td>\n",
       "      <td>0.04</td>\n",
       "      <td>0.10</td>\n",
       "      <td>0.04</td>\n",
       "      <td>0.10</td>\n",
       "      <td>0.04</td>\n",
       "      <td>0.10</td>\n",
       "    </tr>\n",
       "    <tr>\n",
       "      <th>Total</th>\n",
       "      <td>0.82</td>\n",
       "      <td>2.37</td>\n",
       "      <td>1.51</td>\n",
       "      <td>10.33</td>\n",
       "      <td>0.55</td>\n",
       "      <td>2.38</td>\n",
       "      <td>1.45</td>\n",
       "      <td>17.88</td>\n",
       "      <td>1.46</td>\n",
       "      <td>6.44</td>\n",
       "      <td>3.01</td>\n",
       "      <td>14.14</td>\n",
       "    </tr>\n",
       "  </tbody>\n",
       "</table>\n",
       "</div>"
      ],
      "text/plain": [
       "              vdw_low_2100  vdw_low_2300  vdw_high_2100  vdw_high_2300  \\\n",
       "Thermal exp.          0.18          0.35           0.36           1.51   \n",
       "Greenland             0.10          0.39           0.29           2.50   \n",
       "Antarctica            0.39          1.35           0.59           6.00   \n",
       "Glaciers              0.15          0.28           0.27           0.32   \n",
       "Land Storage          0.04          0.10           0.04           0.10   \n",
       "Total                 0.82          2.37           1.51          10.33   \n",
       "\n",
       "              mici_low_2100  mici_low_2300  mici_high_2100  mici_high_2300  \\\n",
       "Thermal exp.           0.18           0.35            0.36            1.51   \n",
       "Greenland              0.10           0.39            0.29            2.50   \n",
       "Antarctica             0.12           1.36            0.53           13.55   \n",
       "Glaciers               0.15           0.28            0.27            0.32   \n",
       "Land Storage           0.04           0.10            0.04            0.10   \n",
       "Total                  0.55           2.38            1.45           17.88   \n",
       "\n",
       "              sej_low_2100  sej_low_2300  sej_high_2100  sej_high_2300  \n",
       "Thermal exp.          0.18          0.35           0.36           1.51  \n",
       "Greenland             0.57          2.37           0.99           3.49  \n",
       "Antarctica            0.56          3.44           1.39           8.82  \n",
       "Glaciers              0.15          0.28           0.27           0.32  \n",
       "Land Storage          0.04          0.10           0.04           0.10  \n",
       "Total                 1.46          6.44           3.01          14.14  "
      ]
     },
     "execution_count": 20,
     "metadata": {},
     "output_type": "execute_result"
    }
   ],
   "source": [
    "glo_lphi_df"
   ]
  },
  {
   "cell_type": "markdown",
   "id": "5998d534-eb9c-45df-8485-191396dcb422",
   "metadata": {},
   "source": [
    "## Convert global to local projection"
   ]
  },
  {
   "cell_type": "code",
   "execution_count": 21,
   "id": "418bbeef-fcd5-41b3-9940-bcec0f1edaf6",
   "metadata": {},
   "outputs": [],
   "source": [
    "fingerprints = knmi23.read_constant_fp('AR5', lat_reg, lon_reg)\n",
    "\n",
    "# Build fingerprints for the table\n",
    "fp = [1, \n",
    "      (fingerprints['GSMB']+fingerprints['GDYN'])/2, \n",
    "      fingerprints['ADYN'], \n",
    "      fingerprints['GIC'], \n",
    "      fingerprints['GW']]"
   ]
  },
  {
   "cell_type": "code",
   "execution_count": 23,
   "id": "af4e0ce5-fa15-443c-9a73-278198bb155a",
   "metadata": {},
   "outputs": [
    {
     "data": {
      "text/plain": [
       "{'GIC': 0.7480514526367188,\n",
       " 'GSMB': 0.20718278884887695,\n",
       " 'ASMB': 1.0741610717773438,\n",
       " 'GDYN': 0.2208646011352539,\n",
       " 'ADYN': 1.1093885803222656,\n",
       " 'GW': 0.7055201721191406}"
      ]
     },
     "execution_count": 23,
     "metadata": {},
     "output_type": "execute_result"
    }
   ],
   "source": [
    "fingerprints"
   ]
  },
  {
   "cell_type": "code",
   "execution_count": 22,
   "id": "21f94100-b3a2-4615-a7a5-65766c02d710",
   "metadata": {},
   "outputs": [
    {
     "data": {
      "text/plain": [
       "[1,\n",
       " 0.21402369499206542,\n",
       " 1.1093885803222656,\n",
       " 0.7480514526367188,\n",
       " 0.7055201721191406]"
      ]
     },
     "execution_count": 22,
     "metadata": {},
     "output_type": "execute_result"
    }
   ],
   "source": [
    "fp"
   ]
  },
  {
   "cell_type": "code",
   "execution_count": 12,
   "id": "658451d8-e789-4e89-aa03-a90db5e19861",
   "metadata": {},
   "outputs": [],
   "source": [
    "# Read steric sea level computed in LongTermProj.ipynb\n",
    "ssp585_odyn = pd.read_csv(f'./outputs/knmi23_odyn_extrapolation2300_ssp585_{REG}.csv')\n",
    "ssp585_odyn.set_index('time', inplace=True)\n"
   ]
  },
  {
   "cell_type": "code",
   "execution_count": 13,
   "id": "746f03cd-3e2b-4496-8754-ba0eaf912509",
   "metadata": {},
   "outputs": [],
   "source": [
    "def build_loc_proj_lphi(glo_df, fp, vlm_rate):\n",
    "    \n",
    "    # Multiply by fingerprints\n",
    "    df = glo_df.iloc[0:5].copy()\n",
    "    df['reg_fingerprints'] = fp\n",
    "    df.update(df.iloc[:, :-1].mul(df.reg_fingerprints, 0))\n",
    "    del(df['reg_fingerprints'])\n",
    "    \n",
    "    # Add vertical land motion:\n",
    "    vlm_2100 = vlm_rate*(2100-2005)\n",
    "    vlm_2300 = vlm_rate*(2300-2005)\n",
    "    \n",
    "    vlm = np.zeros(12)\n",
    "    vlm[0::2] = vlm_2100\n",
    "    vlm[1::2] = vlm_2300\n",
    "    \n",
    "    df.loc['VLM'] = vlm/1000\n",
    "    \n",
    "    # Add ocean dynamics\n",
    "    odyn = np.ones(12)\n",
    "    \n",
    "    odyn_ssp126 = KNMI23_ssp126.sel(proc='Ocean Dynamic Sea Level', percentiles=['95'])\n",
    "    odyn[0::4] = (odyn_ssp126.sel(time=slice(2090,2100)).mean(dim='time') - \n",
    "               odyn_ssp126.sel(time=slice(1995,2014)).mean(dim='time'))/100 # Convert from cm to m\n",
    "    odyn[1::4] = odyn[0::4]\n",
    "    \n",
    "    odyn_ssp585 = KNMI23_ssp585.sel(proc='Ocean Dynamic Sea Level', percentiles=['95'])\n",
    "    odyn[2::4] = (odyn_ssp585.sel(time=slice(2090,2100)).mean(dim='time') - \n",
    "               odyn_ssp585.sel(time=slice(1995,2014)).mean(dim='time'))/100 # Convert from cm to m\n",
    "    \n",
    "    odyn[3::4] = ssp585_odyn.loc[2300,'95']\n",
    "\n",
    "    df.loc['Ocean Dyn.'] = odyn\n",
    "    \n",
    "    df.loc['Total'] = df.sum(axis=0)\n",
    "    \n",
    "    return df"
   ]
  },
  {
   "cell_type": "code",
   "execution_count": 14,
   "id": "0ef48fa9-11fe-45b8-b480-9a161eaf1093",
   "metadata": {},
   "outputs": [
    {
     "data": {
      "text/html": [
       "<div>\n",
       "<style scoped>\n",
       "    .dataframe tbody tr th:only-of-type {\n",
       "        vertical-align: middle;\n",
       "    }\n",
       "\n",
       "    .dataframe tbody tr th {\n",
       "        vertical-align: top;\n",
       "    }\n",
       "\n",
       "    .dataframe thead th {\n",
       "        text-align: right;\n",
       "    }\n",
       "</style>\n",
       "<table border=\"1\" class=\"dataframe\">\n",
       "  <thead>\n",
       "    <tr style=\"text-align: right;\">\n",
       "      <th></th>\n",
       "      <th>vdw_low_2100</th>\n",
       "      <th>vdw_low_2300</th>\n",
       "      <th>vdw_high_2100</th>\n",
       "      <th>vdw_high_2300</th>\n",
       "      <th>mici_low_2100</th>\n",
       "      <th>mici_low_2300</th>\n",
       "      <th>mici_high_2100</th>\n",
       "      <th>mici_high_2300</th>\n",
       "      <th>sej_low_2100</th>\n",
       "      <th>sej_low_2300</th>\n",
       "      <th>sej_high_2100</th>\n",
       "      <th>sej_high_2300</th>\n",
       "    </tr>\n",
       "  </thead>\n",
       "  <tbody>\n",
       "    <tr>\n",
       "      <th>Thermal exp.</th>\n",
       "      <td>0.180000</td>\n",
       "      <td>0.350000</td>\n",
       "      <td>0.360000</td>\n",
       "      <td>1.510000</td>\n",
       "      <td>0.180000</td>\n",
       "      <td>0.350000</td>\n",
       "      <td>0.360000</td>\n",
       "      <td>1.510000</td>\n",
       "      <td>0.180000</td>\n",
       "      <td>0.350000</td>\n",
       "      <td>0.360000</td>\n",
       "      <td>1.510000</td>\n",
       "    </tr>\n",
       "    <tr>\n",
       "      <th>Greenland</th>\n",
       "      <td>0.097005</td>\n",
       "      <td>0.378320</td>\n",
       "      <td>0.281315</td>\n",
       "      <td>2.425130</td>\n",
       "      <td>0.097005</td>\n",
       "      <td>0.378320</td>\n",
       "      <td>0.281315</td>\n",
       "      <td>2.425130</td>\n",
       "      <td>0.552930</td>\n",
       "      <td>2.299023</td>\n",
       "      <td>0.960351</td>\n",
       "      <td>3.385481</td>\n",
       "    </tr>\n",
       "    <tr>\n",
       "      <th>Antarctica</th>\n",
       "      <td>0.451385</td>\n",
       "      <td>1.562485</td>\n",
       "      <td>0.682864</td>\n",
       "      <td>6.944380</td>\n",
       "      <td>0.138888</td>\n",
       "      <td>1.574059</td>\n",
       "      <td>0.613420</td>\n",
       "      <td>15.682724</td>\n",
       "      <td>0.648142</td>\n",
       "      <td>3.981444</td>\n",
       "      <td>1.608781</td>\n",
       "      <td>10.208238</td>\n",
       "    </tr>\n",
       "    <tr>\n",
       "      <th>Glaciers</th>\n",
       "      <td>0.150783</td>\n",
       "      <td>0.281461</td>\n",
       "      <td>0.271409</td>\n",
       "      <td>0.321670</td>\n",
       "      <td>0.150783</td>\n",
       "      <td>0.281461</td>\n",
       "      <td>0.271409</td>\n",
       "      <td>0.321670</td>\n",
       "      <td>0.150783</td>\n",
       "      <td>0.281461</td>\n",
       "      <td>0.271409</td>\n",
       "      <td>0.321670</td>\n",
       "    </tr>\n",
       "    <tr>\n",
       "      <th>Land Storage</th>\n",
       "      <td>0.041033</td>\n",
       "      <td>0.102582</td>\n",
       "      <td>0.041033</td>\n",
       "      <td>0.102582</td>\n",
       "      <td>0.041033</td>\n",
       "      <td>0.102582</td>\n",
       "      <td>0.041033</td>\n",
       "      <td>0.102582</td>\n",
       "      <td>0.041033</td>\n",
       "      <td>0.102582</td>\n",
       "      <td>0.041033</td>\n",
       "      <td>0.102582</td>\n",
       "    </tr>\n",
       "    <tr>\n",
       "      <th>VLM</th>\n",
       "      <td>-0.001425</td>\n",
       "      <td>-0.004425</td>\n",
       "      <td>-0.001425</td>\n",
       "      <td>-0.004425</td>\n",
       "      <td>-0.001425</td>\n",
       "      <td>-0.004425</td>\n",
       "      <td>-0.001425</td>\n",
       "      <td>-0.004425</td>\n",
       "      <td>-0.001425</td>\n",
       "      <td>-0.004425</td>\n",
       "      <td>-0.001425</td>\n",
       "      <td>-0.004425</td>\n",
       "    </tr>\n",
       "    <tr>\n",
       "      <th>Ocean Dyn.</th>\n",
       "      <td>0.091523</td>\n",
       "      <td>0.091523</td>\n",
       "      <td>0.105572</td>\n",
       "      <td>0.377542</td>\n",
       "      <td>0.091523</td>\n",
       "      <td>0.091523</td>\n",
       "      <td>0.105572</td>\n",
       "      <td>0.377542</td>\n",
       "      <td>0.091523</td>\n",
       "      <td>0.091523</td>\n",
       "      <td>0.105572</td>\n",
       "      <td>0.377542</td>\n",
       "    </tr>\n",
       "    <tr>\n",
       "      <th>Total</th>\n",
       "      <td>1.010304</td>\n",
       "      <td>2.761947</td>\n",
       "      <td>1.740768</td>\n",
       "      <td>11.676879</td>\n",
       "      <td>0.697806</td>\n",
       "      <td>2.773521</td>\n",
       "      <td>1.671324</td>\n",
       "      <td>20.415224</td>\n",
       "      <td>1.662985</td>\n",
       "      <td>7.101609</td>\n",
       "      <td>3.345721</td>\n",
       "      <td>15.901089</td>\n",
       "    </tr>\n",
       "  </tbody>\n",
       "</table>\n",
       "</div>"
      ],
      "text/plain": [
       "              vdw_low_2100  vdw_low_2300  vdw_high_2100  vdw_high_2300  \\\n",
       "Thermal exp.      0.180000      0.350000       0.360000       1.510000   \n",
       "Greenland         0.097005      0.378320       0.281315       2.425130   \n",
       "Antarctica        0.451385      1.562485       0.682864       6.944380   \n",
       "Glaciers          0.150783      0.281461       0.271409       0.321670   \n",
       "Land Storage      0.041033      0.102582       0.041033       0.102582   \n",
       "VLM              -0.001425     -0.004425      -0.001425      -0.004425   \n",
       "Ocean Dyn.        0.091523      0.091523       0.105572       0.377542   \n",
       "Total             1.010304      2.761947       1.740768      11.676879   \n",
       "\n",
       "              mici_low_2100  mici_low_2300  mici_high_2100  mici_high_2300  \\\n",
       "Thermal exp.       0.180000       0.350000        0.360000        1.510000   \n",
       "Greenland          0.097005       0.378320        0.281315        2.425130   \n",
       "Antarctica         0.138888       1.574059        0.613420       15.682724   \n",
       "Glaciers           0.150783       0.281461        0.271409        0.321670   \n",
       "Land Storage       0.041033       0.102582        0.041033        0.102582   \n",
       "VLM               -0.001425      -0.004425       -0.001425       -0.004425   \n",
       "Ocean Dyn.         0.091523       0.091523        0.105572        0.377542   \n",
       "Total              0.697806       2.773521        1.671324       20.415224   \n",
       "\n",
       "              sej_low_2100  sej_low_2300  sej_high_2100  sej_high_2300  \n",
       "Thermal exp.      0.180000      0.350000       0.360000       1.510000  \n",
       "Greenland         0.552930      2.299023       0.960351       3.385481  \n",
       "Antarctica        0.648142      3.981444       1.608781      10.208238  \n",
       "Glaciers          0.150783      0.281461       0.271409       0.321670  \n",
       "Land Storage      0.041033      0.102582       0.041033       0.102582  \n",
       "VLM              -0.001425     -0.004425      -0.001425      -0.004425  \n",
       "Ocean Dyn.        0.091523      0.091523       0.105572       0.377542  \n",
       "Total             1.662985      7.101609       3.345721      15.901089  "
      ]
     },
     "execution_count": 14,
     "metadata": {},
     "output_type": "execute_result"
    }
   ],
   "source": [
    "loc_lphi_df = build_loc_proj_lphi(glo_lphi_df, fp, vlm_rate)\n",
    "\n",
    "loc_lphi_df"
   ]
  },
  {
   "cell_type": "markdown",
   "id": "8770343c-7b9e-475f-a0db-bb2d2f7d05c6",
   "metadata": {},
   "source": [
    "## Fit polynomials "
   ]
  },
  {
   "cell_type": "markdown",
   "id": "be49d2bf-53b7-426d-92a3-aa0dab551b28",
   "metadata": {},
   "source": [
    "We fit a 3rd order polynomial. We have 4 unknonws and 4 constraints: heights in 2005, 2100, 2300 and rate in 2005.\n",
    "\n",
    "This method only works for the high scenarios. For the low scenarios, a 3rd order polynomial fit results in a sea level drop between 2500 and 2300 which is not realistic."
   ]
  },
  {
   "cell_type": "code",
   "execution_count": 15,
   "id": "95578c08-190d-447c-99d5-7029204461e7",
   "metadata": {},
   "outputs": [
    {
     "data": {
      "text/html": [
       "<div>\n",
       "<style scoped>\n",
       "    .dataframe tbody tr th:only-of-type {\n",
       "        vertical-align: middle;\n",
       "    }\n",
       "\n",
       "    .dataframe tbody tr th {\n",
       "        vertical-align: top;\n",
       "    }\n",
       "\n",
       "    .dataframe thead th {\n",
       "        text-align: right;\n",
       "    }\n",
       "</style>\n",
       "<table border=\"1\" class=\"dataframe\">\n",
       "  <thead>\n",
       "    <tr style=\"text-align: right;\">\n",
       "      <th></th>\n",
       "      <th>vdw_high</th>\n",
       "      <th>mici_high</th>\n",
       "      <th>sej_high</th>\n",
       "    </tr>\n",
       "    <tr>\n",
       "      <th>time</th>\n",
       "      <th></th>\n",
       "      <th></th>\n",
       "      <th></th>\n",
       "    </tr>\n",
       "  </thead>\n",
       "  <tbody>\n",
       "    <tr>\n",
       "      <th>2005.5</th>\n",
       "      <td>0.000000</td>\n",
       "      <td>0.000000</td>\n",
       "      <td>0.000000</td>\n",
       "    </tr>\n",
       "    <tr>\n",
       "      <th>2006.5</th>\n",
       "      <td>0.003179</td>\n",
       "      <td>0.003120</td>\n",
       "      <td>0.003417</td>\n",
       "    </tr>\n",
       "    <tr>\n",
       "      <th>2007.5</th>\n",
       "      <td>0.006715</td>\n",
       "      <td>0.006483</td>\n",
       "      <td>0.007666</td>\n",
       "    </tr>\n",
       "    <tr>\n",
       "      <th>2008.5</th>\n",
       "      <td>0.010606</td>\n",
       "      <td>0.010089</td>\n",
       "      <td>0.012742</td>\n",
       "    </tr>\n",
       "    <tr>\n",
       "      <th>2009.5</th>\n",
       "      <td>0.014852</td>\n",
       "      <td>0.013942</td>\n",
       "      <td>0.018639</td>\n",
       "    </tr>\n",
       "    <tr>\n",
       "      <th>...</th>\n",
       "      <td>...</td>\n",
       "      <td>...</td>\n",
       "      <td>...</td>\n",
       "    </tr>\n",
       "    <tr>\n",
       "      <th>2296.5</th>\n",
       "      <td>11.437365</td>\n",
       "      <td>19.757253</td>\n",
       "      <td>15.766772</td>\n",
       "    </tr>\n",
       "    <tr>\n",
       "      <th>2297.5</th>\n",
       "      <td>11.497198</td>\n",
       "      <td>19.920453</td>\n",
       "      <td>15.801290</td>\n",
       "    </tr>\n",
       "    <tr>\n",
       "      <th>2298.5</th>\n",
       "      <td>11.557062</td>\n",
       "      <td>20.084514</td>\n",
       "      <td>15.835186</td>\n",
       "    </tr>\n",
       "    <tr>\n",
       "      <th>2299.5</th>\n",
       "      <td>11.616956</td>\n",
       "      <td>20.249436</td>\n",
       "      <td>15.868454</td>\n",
       "    </tr>\n",
       "    <tr>\n",
       "      <th>2300.5</th>\n",
       "      <td>11.676879</td>\n",
       "      <td>20.415224</td>\n",
       "      <td>15.901089</td>\n",
       "    </tr>\n",
       "  </tbody>\n",
       "</table>\n",
       "<p>296 rows × 3 columns</p>\n",
       "</div>"
      ],
      "text/plain": [
       "         vdw_high  mici_high   sej_high\n",
       "time                                   \n",
       "2005.5   0.000000   0.000000   0.000000\n",
       "2006.5   0.003179   0.003120   0.003417\n",
       "2007.5   0.006715   0.006483   0.007666\n",
       "2008.5   0.010606   0.010089   0.012742\n",
       "2009.5   0.014852   0.013942   0.018639\n",
       "...           ...        ...        ...\n",
       "2296.5  11.437365  19.757253  15.766772\n",
       "2297.5  11.497198  19.920453  15.801290\n",
       "2298.5  11.557062  20.084514  15.835186\n",
       "2299.5  11.616956  20.249436  15.868454\n",
       "2300.5  11.676879  20.415224  15.901089\n",
       "\n",
       "[296 rows x 3 columns]"
      ]
     },
     "execution_count": 15,
     "metadata": {},
     "output_type": "execute_result"
    }
   ],
   "source": [
    "lphi_ts_df = pd.DataFrame(index=np.arange(2005,2301,1))\n",
    "\n",
    "scen_names = ['vdw_low', 'vdw_high', 'mici_low', 'mici_high', \n",
    "              'sej_low', 'sej_high']\n",
    "\n",
    "for scen in ['vdw_high', 'mici_high', 'sej_high']:\n",
    "\n",
    "    fp0 = 0.003 # Rate of sea level rise in 2005 [m/s]\n",
    "    f0 = 0 # Height in 2005 \n",
    "    f1 = loc_lphi_df.loc['Total',f'{scen}_2100'] # Height in 2100\n",
    "    f2 = loc_lphi_df.loc['Total',f'{scen}_2300'] # Height in 2300\n",
    "\n",
    "    t0 = 2005\n",
    "    t1 = 2100-t0\n",
    "    t2 = 2300-t0\n",
    "\n",
    "    aup = fp0*(t2*t1**2-t1*t2**2)+f0*(t1**2-t2**2)+f1*t2**2-f2*t1**2\n",
    "    a = aup/(t1**3*t2**2-t2**3*t1**2)\n",
    "    b = (f2-a*t2**3-fp0*t2-f0)/t2**2\n",
    "    c = fp0\n",
    "    d = f0\n",
    "\n",
    "    t = lphi_ts_df.index-t0\n",
    "    lphi_ts_df[scen] = a*t**3 + b*t**2 + c*t + d\n",
    "\n",
    "lphi_ts_df.index.name = 'time'\n",
    "lphi_ts_df.index = lphi_ts_df.index+0.5\n",
    "\n",
    "lphi_ts_df"
   ]
  },
  {
   "cell_type": "code",
   "execution_count": 16,
   "id": "2cc85e99-8b73-4a9c-b5ac-8bca39b0fc48",
   "metadata": {},
   "outputs": [
    {
     "data": {
      "text/plain": [
       "<matplotlib.collections.PathCollection at 0x18aad47f0>"
      ]
     },
     "execution_count": 16,
     "metadata": {},
     "output_type": "execute_result"
    },
    {
     "data": {
      "image/png": "[encoded data removed]",
      "text/plain": [
       "<Figure size 640x480 with 1 Axes>"
      ]
     },
     "metadata": {
      "image/png": {
       "height": 432,
       "width": 556
      }
     },
     "output_type": "display_data"
    }
   ],
   "source": [
    "lphi_ts_df.plot()\n",
    "plt.scatter(t0, f0)\n",
    "plt.scatter(2100,loc_lphi_df.loc['Total',f'{scen}_2100'])\n",
    "plt.scatter(2300,loc_lphi_df.loc['Total',f'{scen}_2300'])"
   ]
  },
  {
   "cell_type": "markdown",
   "id": "ee61f666-4761-4ef0-89a9-939f2b8405fc",
   "metadata": {},
   "source": [
    "## Export data as csv files"
   ]
  },
  {
   "cell_type": "code",
   "execution_count": 17,
   "id": "0a741fc3-e080-4ff3-82f7-0efb8a26a3a3",
   "metadata": {},
   "outputs": [],
   "source": [
    "lphi_ts_df.to_csv(f'./outputs/knmi23_lphi_{REG}.csv')"
   ]
  },
  {
   "cell_type": "code",
   "execution_count": 18,
   "id": "51144a05-d578-405b-8f0c-8225851a7113",
   "metadata": {},
   "outputs": [
    {
     "data": {
      "text/plain": [
       "'Suriname'"
      ]
     },
     "execution_count": 18,
     "metadata": {},
     "output_type": "execute_result"
    }
   ],
   "source": [
    "REG"
   ]
  },
  {
   "cell_type": "code",
   "execution_count": null,
   "id": "41826ce9-f25f-4658-bf73-a9a78e1c46fa",
   "metadata": {},
   "outputs": [],
   "source": []
  }
 ],
 "metadata": {
  "kernelspec": {
   "display_name": "Python 3 (ipykernel)",
   "language": "python",
   "name": "python3"
  },
  "language_info": {
   "codemirror_mode": {
    "name": "ipython",
    "version": 3
   },
   "file_extension": ".py",
   "mimetype": "text/x-python",
   "name": "python",
   "nbconvert_exporter": "python",
   "pygments_lexer": "ipython3",
   "version": "3.9.13"
  }
 },
 "nbformat": 4,
 "nbformat_minor": 5
}
